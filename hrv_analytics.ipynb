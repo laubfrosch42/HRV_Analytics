{
 "cells": [
  {
   "cell_type": "code",
   "execution_count": 1,
   "id": "e8eaec76",
   "metadata": {},
   "outputs": [],
   "source": [
    "import datetime as dt\n",
    "import pandas as pd\n",
    "import numpy as np\n",
    "import matplotlib.pyplot as plt\n",
    "import seaborn as sns"
   ]
  },
  {
   "cell_type": "code",
   "execution_count": 2,
   "id": "9f5721b0",
   "metadata": {},
   "outputs": [],
   "source": [
    "filename = '2024-4-24_RR_1HOURTEST.csv'\n",
    "#filename = '2024-4-19_RR_1904-MITTAGSRUMPELN.csv'\n",
    "#filename = '2024-2-13_RR_1302-HEFTIG.csv'\n",
    "df = pd.read_csv(filename)\n",
    "\n",
    "df.columns = df.columns.str.strip()\n",
    "df['date'] = pd.to_datetime(df['date'])\n",
    "df['date'] = df['date'].dt.tz_convert(None) #remove timezone\n",
    "df['hour'] = df['date'].dt.hour\n",
    "df['minute'] = df['date'].dt.minute\n",
    "df.rename(columns={'rr': 'RR_n'}, inplace=True)"
   ]
  },
  {
   "cell_type": "code",
   "execution_count": 3,
   "id": "c4f63a6a",
   "metadata": {},
   "outputs": [],
   "source": [
    "#create ordering list for graphic to keep the hours as recorded\n",
    "hour_list = df['hour'].tolist()\n",
    "hour_list = list(pd.unique(hour_list))\n",
    "#hour_list"
   ]
  },
  {
   "cell_type": "code",
   "execution_count": 4,
   "id": "f326d35f",
   "metadata": {},
   "outputs": [],
   "source": [
    "def quarter(x):\n",
    "    if x < 15:\n",
    "        return 'Q1'\n",
    "    elif x < 30:\n",
    "        return 'Q2'\n",
    "    elif x < 45:\n",
    "        return 'Q3'\n",
    "    else:\n",
    "        return 'Q4'\n",
    "    \n",
    "df['quarter'] = df['minute'].apply(quarter)"
   ]
  },
  {
   "cell_type": "code",
   "execution_count": 5,
   "id": "57bf3840",
   "metadata": {
    "scrolled": true
   },
   "outputs": [
    {
     "data": {
      "text/plain": [
       "(4272, 6)"
      ]
     },
     "execution_count": 5,
     "metadata": {},
     "output_type": "execute_result"
    }
   ],
   "source": [
    "df.shape"
   ]
  },
  {
   "cell_type": "code",
   "execution_count": 6,
   "id": "0af4deb2",
   "metadata": {},
   "outputs": [
    {
     "data": {
      "text/html": [
       "<div>\n",
       "<style scoped>\n",
       "    .dataframe tbody tr th:only-of-type {\n",
       "        vertical-align: middle;\n",
       "    }\n",
       "\n",
       "    .dataframe tbody tr th {\n",
       "        vertical-align: top;\n",
       "    }\n",
       "\n",
       "    .dataframe thead th {\n",
       "        text-align: right;\n",
       "    }\n",
       "</style>\n",
       "<table border=\"1\" class=\"dataframe\">\n",
       "  <thead>\n",
       "    <tr style=\"text-align: right;\">\n",
       "      <th></th>\n",
       "      <th>date</th>\n",
       "      <th>RR_n</th>\n",
       "      <th>since start</th>\n",
       "      <th>hour</th>\n",
       "      <th>minute</th>\n",
       "      <th>quarter</th>\n",
       "    </tr>\n",
       "  </thead>\n",
       "  <tbody>\n",
       "    <tr>\n",
       "      <th>0</th>\n",
       "      <td>2024-04-24 15:00:01</td>\n",
       "      <td>801</td>\n",
       "      <td>264915</td>\n",
       "      <td>15</td>\n",
       "      <td>0</td>\n",
       "      <td>Q1</td>\n",
       "    </tr>\n",
       "    <tr>\n",
       "      <th>1</th>\n",
       "      <td>2024-04-24 15:00:01</td>\n",
       "      <td>815</td>\n",
       "      <td>265730</td>\n",
       "      <td>15</td>\n",
       "      <td>0</td>\n",
       "      <td>Q1</td>\n",
       "    </tr>\n",
       "    <tr>\n",
       "      <th>2</th>\n",
       "      <td>2024-04-24 15:00:02</td>\n",
       "      <td>820</td>\n",
       "      <td>266550</td>\n",
       "      <td>15</td>\n",
       "      <td>0</td>\n",
       "      <td>Q1</td>\n",
       "    </tr>\n",
       "    <tr>\n",
       "      <th>3</th>\n",
       "      <td>2024-04-24 15:00:03</td>\n",
       "      <td>835</td>\n",
       "      <td>267385</td>\n",
       "      <td>15</td>\n",
       "      <td>0</td>\n",
       "      <td>Q1</td>\n",
       "    </tr>\n",
       "    <tr>\n",
       "      <th>4</th>\n",
       "      <td>2024-04-24 15:00:04</td>\n",
       "      <td>818</td>\n",
       "      <td>268203</td>\n",
       "      <td>15</td>\n",
       "      <td>0</td>\n",
       "      <td>Q1</td>\n",
       "    </tr>\n",
       "  </tbody>\n",
       "</table>\n",
       "</div>"
      ],
      "text/plain": [
       "                 date  RR_n  since start  hour  minute quarter\n",
       "0 2024-04-24 15:00:01   801       264915    15       0      Q1\n",
       "1 2024-04-24 15:00:01   815       265730    15       0      Q1\n",
       "2 2024-04-24 15:00:02   820       266550    15       0      Q1\n",
       "3 2024-04-24 15:00:03   835       267385    15       0      Q1\n",
       "4 2024-04-24 15:00:04   818       268203    15       0      Q1"
      ]
     },
     "execution_count": 6,
     "metadata": {},
     "output_type": "execute_result"
    }
   ],
   "source": [
    "df.head()"
   ]
  },
  {
   "cell_type": "code",
   "execution_count": 7,
   "id": "b33f2236",
   "metadata": {},
   "outputs": [],
   "source": [
    "measured_time = df['RR_n'].sum()\n",
    "hours = (measured_time / 1000 / 60 / 60).round(1)\n",
    "minutes = (measured_time / 1000 / 60).round(1)"
   ]
  },
  {
   "cell_type": "code",
   "execution_count": 8,
   "id": "4aa73fac",
   "metadata": {},
   "outputs": [],
   "source": [
    "#copy RR twice incl shifting to get two previous beats in same row\n",
    "df.insert(1, 'RR_n-1', df['RR_n'].shift(1))\n",
    "df.insert(1, 'RR_n-2', df['RR_n-1'].shift(1))\n",
    "\n",
    "#delete first and last two rows as no complete data (3 beats) are shown\n",
    "df.drop(df.index[-2], inplace=True)\n",
    "df.drop(df.index[:2], inplace=True)"
   ]
  },
  {
   "cell_type": "code",
   "execution_count": 9,
   "id": "d9550deb",
   "metadata": {
    "scrolled": true
   },
   "outputs": [
    {
     "data": {
      "text/html": [
       "<div>\n",
       "<style scoped>\n",
       "    .dataframe tbody tr th:only-of-type {\n",
       "        vertical-align: middle;\n",
       "    }\n",
       "\n",
       "    .dataframe tbody tr th {\n",
       "        vertical-align: top;\n",
       "    }\n",
       "\n",
       "    .dataframe thead th {\n",
       "        text-align: right;\n",
       "    }\n",
       "</style>\n",
       "<table border=\"1\" class=\"dataframe\">\n",
       "  <thead>\n",
       "    <tr style=\"text-align: right;\">\n",
       "      <th></th>\n",
       "      <th>date</th>\n",
       "      <th>RR_n-2</th>\n",
       "      <th>RR_n-1</th>\n",
       "      <th>RR_n</th>\n",
       "      <th>since start</th>\n",
       "      <th>hour</th>\n",
       "      <th>minute</th>\n",
       "      <th>quarter</th>\n",
       "    </tr>\n",
       "  </thead>\n",
       "  <tbody>\n",
       "    <tr>\n",
       "      <th>2</th>\n",
       "      <td>2024-04-24 15:00:02</td>\n",
       "      <td>801.0</td>\n",
       "      <td>815.0</td>\n",
       "      <td>820</td>\n",
       "      <td>266550</td>\n",
       "      <td>15</td>\n",
       "      <td>0</td>\n",
       "      <td>Q1</td>\n",
       "    </tr>\n",
       "    <tr>\n",
       "      <th>3</th>\n",
       "      <td>2024-04-24 15:00:03</td>\n",
       "      <td>815.0</td>\n",
       "      <td>820.0</td>\n",
       "      <td>835</td>\n",
       "      <td>267385</td>\n",
       "      <td>15</td>\n",
       "      <td>0</td>\n",
       "      <td>Q1</td>\n",
       "    </tr>\n",
       "    <tr>\n",
       "      <th>4</th>\n",
       "      <td>2024-04-24 15:00:04</td>\n",
       "      <td>820.0</td>\n",
       "      <td>835.0</td>\n",
       "      <td>818</td>\n",
       "      <td>268203</td>\n",
       "      <td>15</td>\n",
       "      <td>0</td>\n",
       "      <td>Q1</td>\n",
       "    </tr>\n",
       "    <tr>\n",
       "      <th>5</th>\n",
       "      <td>2024-04-24 15:00:04</td>\n",
       "      <td>835.0</td>\n",
       "      <td>818.0</td>\n",
       "      <td>859</td>\n",
       "      <td>269062</td>\n",
       "      <td>15</td>\n",
       "      <td>0</td>\n",
       "      <td>Q1</td>\n",
       "    </tr>\n",
       "    <tr>\n",
       "      <th>6</th>\n",
       "      <td>2024-04-24 15:00:05</td>\n",
       "      <td>818.0</td>\n",
       "      <td>859.0</td>\n",
       "      <td>846</td>\n",
       "      <td>269908</td>\n",
       "      <td>15</td>\n",
       "      <td>0</td>\n",
       "      <td>Q1</td>\n",
       "    </tr>\n",
       "  </tbody>\n",
       "</table>\n",
       "</div>"
      ],
      "text/plain": [
       "                 date  RR_n-2  RR_n-1  RR_n  since start  hour  minute quarter\n",
       "2 2024-04-24 15:00:02   801.0   815.0   820       266550    15       0      Q1\n",
       "3 2024-04-24 15:00:03   815.0   820.0   835       267385    15       0      Q1\n",
       "4 2024-04-24 15:00:04   820.0   835.0   818       268203    15       0      Q1\n",
       "5 2024-04-24 15:00:04   835.0   818.0   859       269062    15       0      Q1\n",
       "6 2024-04-24 15:00:05   818.0   859.0   846       269908    15       0      Q1"
      ]
     },
     "execution_count": 9,
     "metadata": {},
     "output_type": "execute_result"
    }
   ],
   "source": [
    "df.head()"
   ]
  },
  {
   "cell_type": "code",
   "execution_count": 10,
   "id": "8d352f6f",
   "metadata": {},
   "outputs": [
    {
     "data": {
      "text/html": [
       "<div>\n",
       "<style scoped>\n",
       "    .dataframe tbody tr th:only-of-type {\n",
       "        vertical-align: middle;\n",
       "    }\n",
       "\n",
       "    .dataframe tbody tr th {\n",
       "        vertical-align: top;\n",
       "    }\n",
       "\n",
       "    .dataframe thead th {\n",
       "        text-align: right;\n",
       "    }\n",
       "</style>\n",
       "<table border=\"1\" class=\"dataframe\">\n",
       "  <thead>\n",
       "    <tr style=\"text-align: right;\">\n",
       "      <th></th>\n",
       "      <th>date</th>\n",
       "      <th>RR_n-2</th>\n",
       "      <th>RR_n-1</th>\n",
       "      <th>RR_n</th>\n",
       "      <th>since start</th>\n",
       "      <th>hour</th>\n",
       "      <th>minute</th>\n",
       "      <th>quarter</th>\n",
       "    </tr>\n",
       "  </thead>\n",
       "  <tbody>\n",
       "    <tr>\n",
       "      <th>4266</th>\n",
       "      <td>2024-04-24 15:59:56</td>\n",
       "      <td>897.0</td>\n",
       "      <td>924.0</td>\n",
       "      <td>959</td>\n",
       "      <td>3857180</td>\n",
       "      <td>15</td>\n",
       "      <td>59</td>\n",
       "      <td>Q4</td>\n",
       "    </tr>\n",
       "    <tr>\n",
       "      <th>4267</th>\n",
       "      <td>2024-04-24 15:59:56</td>\n",
       "      <td>924.0</td>\n",
       "      <td>959.0</td>\n",
       "      <td>917</td>\n",
       "      <td>3858097</td>\n",
       "      <td>15</td>\n",
       "      <td>59</td>\n",
       "      <td>Q4</td>\n",
       "    </tr>\n",
       "    <tr>\n",
       "      <th>4268</th>\n",
       "      <td>2024-04-24 15:59:57</td>\n",
       "      <td>959.0</td>\n",
       "      <td>917.0</td>\n",
       "      <td>918</td>\n",
       "      <td>3859015</td>\n",
       "      <td>15</td>\n",
       "      <td>59</td>\n",
       "      <td>Q4</td>\n",
       "    </tr>\n",
       "    <tr>\n",
       "      <th>4269</th>\n",
       "      <td>2024-04-24 15:59:57</td>\n",
       "      <td>917.0</td>\n",
       "      <td>918.0</td>\n",
       "      <td>953</td>\n",
       "      <td>3859968</td>\n",
       "      <td>15</td>\n",
       "      <td>59</td>\n",
       "      <td>Q4</td>\n",
       "    </tr>\n",
       "    <tr>\n",
       "      <th>4271</th>\n",
       "      <td>2024-04-24 15:59:59</td>\n",
       "      <td>953.0</td>\n",
       "      <td>946.0</td>\n",
       "      <td>910</td>\n",
       "      <td>3861824</td>\n",
       "      <td>15</td>\n",
       "      <td>59</td>\n",
       "      <td>Q4</td>\n",
       "    </tr>\n",
       "  </tbody>\n",
       "</table>\n",
       "</div>"
      ],
      "text/plain": [
       "                    date  RR_n-2  RR_n-1  RR_n  since start  hour  minute  \\\n",
       "4266 2024-04-24 15:59:56   897.0   924.0   959      3857180    15      59   \n",
       "4267 2024-04-24 15:59:56   924.0   959.0   917      3858097    15      59   \n",
       "4268 2024-04-24 15:59:57   959.0   917.0   918      3859015    15      59   \n",
       "4269 2024-04-24 15:59:57   917.0   918.0   953      3859968    15      59   \n",
       "4271 2024-04-24 15:59:59   953.0   946.0   910      3861824    15      59   \n",
       "\n",
       "     quarter  \n",
       "4266      Q4  \n",
       "4267      Q4  \n",
       "4268      Q4  \n",
       "4269      Q4  \n",
       "4271      Q4  "
      ]
     },
     "execution_count": 10,
     "metadata": {},
     "output_type": "execute_result"
    }
   ],
   "source": [
    "df.tail()"
   ]
  },
  {
   "cell_type": "code",
   "execution_count": 11,
   "id": "1751e443",
   "metadata": {},
   "outputs": [],
   "source": [
    "df['variation'] = ((df['RR_n'] / df['RR_n-1'] - 1) * 100).round(1)\n",
    "df['variation2'] = ((df['RR_n-1'] / df['RR_n-2'] - 1) * 100).round(1)\n",
    "df['variation_abs'] = df['variation'].abs()\n",
    "\n",
    "deviation = 15\n",
    "def condition(x, y):\n",
    "    if x <= -deviation:\n",
    "        if y >= deviation:\n",
    "            return 'first normal beat after compensating break'\n",
    "        else:\n",
    "            return '(S)VES'\n",
    "    elif x >= deviation:\n",
    "        return 'compensating break'\n",
    "    else:\n",
    "        return 'normal beat'\n",
    "\n",
    "#df['SVES'] = df['variation'].apply(condition)\n",
    "df['SVES'] = df.apply(lambda x: condition(x['variation'], x['variation2']), axis=1)"
   ]
  },
  {
   "cell_type": "code",
   "execution_count": 12,
   "id": "0fd5934a",
   "metadata": {},
   "outputs": [
    {
     "data": {
      "text/html": [
       "<div>\n",
       "<style scoped>\n",
       "    .dataframe tbody tr th:only-of-type {\n",
       "        vertical-align: middle;\n",
       "    }\n",
       "\n",
       "    .dataframe tbody tr th {\n",
       "        vertical-align: top;\n",
       "    }\n",
       "\n",
       "    .dataframe thead th {\n",
       "        text-align: right;\n",
       "    }\n",
       "</style>\n",
       "<table border=\"1\" class=\"dataframe\">\n",
       "  <thead>\n",
       "    <tr style=\"text-align: right;\">\n",
       "      <th></th>\n",
       "      <th>date</th>\n",
       "      <th>RR_n-2</th>\n",
       "      <th>RR_n-1</th>\n",
       "      <th>RR_n</th>\n",
       "      <th>since start</th>\n",
       "      <th>hour</th>\n",
       "      <th>minute</th>\n",
       "      <th>quarter</th>\n",
       "      <th>variation</th>\n",
       "      <th>variation2</th>\n",
       "      <th>variation_abs</th>\n",
       "      <th>SVES</th>\n",
       "    </tr>\n",
       "  </thead>\n",
       "  <tbody>\n",
       "    <tr>\n",
       "      <th>2</th>\n",
       "      <td>2024-04-24 15:00:02</td>\n",
       "      <td>801.0</td>\n",
       "      <td>815.0</td>\n",
       "      <td>820</td>\n",
       "      <td>266550</td>\n",
       "      <td>15</td>\n",
       "      <td>0</td>\n",
       "      <td>Q1</td>\n",
       "      <td>0.6</td>\n",
       "      <td>1.7</td>\n",
       "      <td>0.6</td>\n",
       "      <td>normal beat</td>\n",
       "    </tr>\n",
       "    <tr>\n",
       "      <th>3</th>\n",
       "      <td>2024-04-24 15:00:03</td>\n",
       "      <td>815.0</td>\n",
       "      <td>820.0</td>\n",
       "      <td>835</td>\n",
       "      <td>267385</td>\n",
       "      <td>15</td>\n",
       "      <td>0</td>\n",
       "      <td>Q1</td>\n",
       "      <td>1.8</td>\n",
       "      <td>0.6</td>\n",
       "      <td>1.8</td>\n",
       "      <td>normal beat</td>\n",
       "    </tr>\n",
       "    <tr>\n",
       "      <th>4</th>\n",
       "      <td>2024-04-24 15:00:04</td>\n",
       "      <td>820.0</td>\n",
       "      <td>835.0</td>\n",
       "      <td>818</td>\n",
       "      <td>268203</td>\n",
       "      <td>15</td>\n",
       "      <td>0</td>\n",
       "      <td>Q1</td>\n",
       "      <td>-2.0</td>\n",
       "      <td>1.8</td>\n",
       "      <td>2.0</td>\n",
       "      <td>normal beat</td>\n",
       "    </tr>\n",
       "    <tr>\n",
       "      <th>5</th>\n",
       "      <td>2024-04-24 15:00:04</td>\n",
       "      <td>835.0</td>\n",
       "      <td>818.0</td>\n",
       "      <td>859</td>\n",
       "      <td>269062</td>\n",
       "      <td>15</td>\n",
       "      <td>0</td>\n",
       "      <td>Q1</td>\n",
       "      <td>5.0</td>\n",
       "      <td>-2.0</td>\n",
       "      <td>5.0</td>\n",
       "      <td>normal beat</td>\n",
       "    </tr>\n",
       "    <tr>\n",
       "      <th>6</th>\n",
       "      <td>2024-04-24 15:00:05</td>\n",
       "      <td>818.0</td>\n",
       "      <td>859.0</td>\n",
       "      <td>846</td>\n",
       "      <td>269908</td>\n",
       "      <td>15</td>\n",
       "      <td>0</td>\n",
       "      <td>Q1</td>\n",
       "      <td>-1.5</td>\n",
       "      <td>5.0</td>\n",
       "      <td>1.5</td>\n",
       "      <td>normal beat</td>\n",
       "    </tr>\n",
       "  </tbody>\n",
       "</table>\n",
       "</div>"
      ],
      "text/plain": [
       "                 date  RR_n-2  RR_n-1  RR_n  since start  hour  minute  \\\n",
       "2 2024-04-24 15:00:02   801.0   815.0   820       266550    15       0   \n",
       "3 2024-04-24 15:00:03   815.0   820.0   835       267385    15       0   \n",
       "4 2024-04-24 15:00:04   820.0   835.0   818       268203    15       0   \n",
       "5 2024-04-24 15:00:04   835.0   818.0   859       269062    15       0   \n",
       "6 2024-04-24 15:00:05   818.0   859.0   846       269908    15       0   \n",
       "\n",
       "  quarter  variation  variation2  variation_abs         SVES  \n",
       "2      Q1        0.6         1.7            0.6  normal beat  \n",
       "3      Q1        1.8         0.6            1.8  normal beat  \n",
       "4      Q1       -2.0         1.8            2.0  normal beat  \n",
       "5      Q1        5.0        -2.0            5.0  normal beat  \n",
       "6      Q1       -1.5         5.0            1.5  normal beat  "
      ]
     },
     "execution_count": 12,
     "metadata": {},
     "output_type": "execute_result"
    }
   ],
   "source": [
    "df.head()"
   ]
  },
  {
   "cell_type": "code",
   "execution_count": 13,
   "id": "56687d40",
   "metadata": {},
   "outputs": [],
   "source": [
    "df_test = df[df['hour'] == 19]\n",
    "df_test.to_excel('test.xlsx')"
   ]
  },
  {
   "cell_type": "code",
   "execution_count": 14,
   "id": "cba090be",
   "metadata": {},
   "outputs": [],
   "source": [
    "# basic scatterplot\n",
    "def scatterplot (data, column_divider, row_divider):\n",
    "    sns.set_theme(style='white')\n",
    "    sns.color_palette(\"Paired\")\n",
    "    sns.lmplot(\n",
    "        data=data,\n",
    "        x='RR_n-1',\n",
    "        y='RR_n',\n",
    "        fit_reg=False,\n",
    "        scatter_kws={\"s\": 15.0},\n",
    "        height=7,\n",
    "        aspect=1,\n",
    "        palette='Set1',\n",
    "        hue='SVES',\n",
    "        col=column_divider,\n",
    "        row=row_divider,\n",
    "        col_order=['Q1', 'Q2' ,'Q3', 'Q4'],\n",
    "        row_order=hour_list\n",
    "    ).fig.suptitle(filename)\n",
    "\n",
    "    # control x and y limits\n",
    "    plt.ylim(300, 1300)\n",
    "    plt.xlim(300, 1300)\n",
    "\n",
    "    #plt.text(1000, 400, 'Hello', fontsize=15)\n",
    "    \n",
    "    #plt.show()"
   ]
  },
  {
   "cell_type": "code",
   "execution_count": 15,
   "id": "c7e9ee91",
   "metadata": {},
   "outputs": [
    {
     "data": {
      "image/png": "[encoded data removed]",
      "text/plain": [
       "<Figure size 750.6x504 with 1 Axes>"
      ]
     },
     "metadata": {},
     "output_type": "display_data"
    }
   ],
   "source": [
    "scatterplot(df, None, None)"
   ]
  },
  {
   "cell_type": "code",
   "execution_count": 16,
   "id": "f1dd7f5e",
   "metadata": {},
   "outputs": [
    {
     "data": {
      "image/png": "[encoded data removed]",
      "text/plain": [
       "<Figure size 2262.6x504 with 4 Axes>"
      ]
     },
     "metadata": {},
     "output_type": "display_data"
    }
   ],
   "source": [
    "scatterplot(df, 'quarter', 'hour')"
   ]
  },
  {
   "cell_type": "code",
   "execution_count": 17,
   "id": "1a531945",
   "metadata": {
    "scrolled": true
   },
   "outputs": [
    {
     "data": {
      "text/plain": [
       "(1, 12)"
      ]
     },
     "execution_count": 17,
     "metadata": {},
     "output_type": "execute_result"
    }
   ],
   "source": [
    "df_SVES = df[df['SVES'] == '(S)VES']\n",
    "df_SVES.shape"
   ]
  },
  {
   "cell_type": "code",
   "execution_count": 18,
   "id": "57d6c46f",
   "metadata": {},
   "outputs": [],
   "source": [
    "df_SVES.to_excel('outliers.xlsx')"
   ]
  },
  {
   "cell_type": "code",
   "execution_count": 19,
   "id": "23cac704",
   "metadata": {},
   "outputs": [
    {
     "data": {
      "image/png": "[encoded data removed]",
      "text/plain": [
       "<Figure size 432x288 with 1 Axes>"
      ]
     },
     "metadata": {},
     "output_type": "display_data"
    }
   ],
   "source": [
    "sns.histplot(data=df_SVES, x='variation', bins=50)\n",
    "plt.show()"
   ]
  },
  {
   "cell_type": "code",
   "execution_count": 20,
   "id": "1379fbbc",
   "metadata": {},
   "outputs": [],
   "source": [
    "#df_variation.loc[df_variation['variation'].idxmax()]"
   ]
  },
  {
   "cell_type": "code",
   "execution_count": 21,
   "id": "4e16c0cb",
   "metadata": {},
   "outputs": [],
   "source": [
    "outliers_percentage=(df_SVES.shape[0]/df.shape[0])*100"
   ]
  },
  {
   "cell_type": "code",
   "execution_count": 22,
   "id": "dab31f0a",
   "metadata": {},
   "outputs": [
    {
     "name": "stdout",
     "output_type": "stream",
     "text": [
      "Sum of Milliseconds =  3597710\n",
      "Measured Time =  1.0  hours  =  60.0  minutes\n",
      "Beats =  4269\n",
      "average BPM =  71.2\n",
      "(S)VES =  1\n",
      "(S)VES% =  0.0  %\n"
     ]
    }
   ],
   "source": [
    "print ('Sum of Milliseconds = ', measured_time)\n",
    "print ('Measured Time = ', hours, ' hours', ' = ', minutes, ' minutes')\n",
    "print ('Beats = ', df.shape[0])\n",
    "print ('average BPM = ', (df.shape[0]/minutes).round(1))\n",
    "print ('(S)VES = ', df_SVES.shape[0])\n",
    "print ('(S)VES% = ',round(outliers_percentage, 1), ' %')"
   ]
  },
  {
   "cell_type": "code",
   "execution_count": null,
   "id": "a04224b4",
   "metadata": {},
   "outputs": [],
   "source": []
  }
 ],
 "metadata": {
  "kernelspec": {
   "display_name": "Python 3 (ipykernel)",
   "language": "python",
   "name": "python3"
  },
  "language_info": {
   "codemirror_mode": {
    "name": "ipython",
    "version": 3
   },
   "file_extension": ".py",
   "mimetype": "text/x-python",
   "name": "python",
   "nbconvert_exporter": "python",
   "pygments_lexer": "ipython3",
   "version": "3.8.6"
  }
 },
 "nbformat": 4,
 "nbformat_minor": 5
}
